{
 "cells": [
  {
   "cell_type": "markdown",
   "id": "af0854b2",
   "metadata": {},
   "source": [
    "## Installing and Importing pkg"
   ]
  },
  {
   "cell_type": "code",
   "execution_count": 10,
   "id": "03cb31c4",
   "metadata": {
    "scrolled": true
   },
   "outputs": [
    {
     "name": "stderr",
     "output_type": "stream",
     "text": [
      "WARNING: Ignoring invalid distribution -rotobuf (c:\\users\\dell\\anaconda3\\lib\\site-packages)\n",
      "WARNING: Ignoring invalid distribution -rotobuf (c:\\users\\dell\\anaconda3\\lib\\site-packages)\n",
      "WARNING: Ignoring invalid distribution -rotobuf (c:\\users\\dell\\anaconda3\\lib\\site-packages)\n",
      "WARNING: Ignoring invalid distribution -rotobuf (c:\\users\\dell\\anaconda3\\lib\\site-packages)\n",
      "WARNING: Ignoring invalid distribution -rotobuf (c:\\users\\dell\\anaconda3\\lib\\site-packages)\n",
      "WARNING: Ignoring invalid distribution -rotobuf (c:\\users\\dell\\anaconda3\\lib\\site-packages)\n",
      "WARNING: Ignoring invalid distribution -rotobuf (c:\\users\\dell\\anaconda3\\lib\\site-packages)\n",
      "WARNING: Ignoring invalid distribution -rotobuf (c:\\users\\dell\\anaconda3\\lib\\site-packages)\n",
      "WARNING: Ignoring invalid distribution -rotobuf (c:\\users\\dell\\anaconda3\\lib\\site-packages)\n",
      "WARNING: Ignoring invalid distribution -rotobuf (c:\\users\\dell\\anaconda3\\lib\\site-packages)\n"
     ]
    }
   ],
   "source": [
    "!pip install -q py2neo"
   ]
  },
  {
   "cell_type": "code",
   "execution_count": 2,
   "id": "02045f3d",
   "metadata": {},
   "outputs": [],
   "source": [
    "from py2neo import Graph\n",
    "from py2neo import Node\n",
    "from py2neo import Relationship\n",
    "import pandas as pd"
   ]
  },
  {
   "cell_type": "markdown",
   "id": "0c2e5876",
   "metadata": {},
   "source": [
    "## Connecting to neo4j server"
   ]
  },
  {
   "cell_type": "code",
   "execution_count": 3,
   "id": "98adffe9",
   "metadata": {},
   "outputs": [],
   "source": [
    "graph = Graph(\"\", \n",
    "              user=\"\", \n",
    "              password=\"\")"
   ]
  },
  {
   "cell_type": "markdown",
   "id": "52fce1af",
   "metadata": {},
   "source": [
    "## Creating Social Media Nodes"
   ]
  },
  {
   "cell_type": "code",
   "execution_count": 13,
   "id": "e68f655f",
   "metadata": {},
   "outputs": [],
   "source": [
    "Instagram = Node(\"Social_Media\", title=\"Instagram\", tagline=\"Capture and Share the World's Moments\")\n",
    "Facebook = Node(\"Social_Media\",  title=\"Facebook\", tagline=\"It's quick and easy\")\n",
    "WhatsApp = Node(\"Social_Media\",  title=\"WhatsApp\", tagline=\"Hey there, I am using WhatsApp\")\n",
    "SnapChat = Node(\"Social_Media\", title=\"SnapChat\", tagline=\"THe fastest way to share a moment\")\n",
    "Youtube = Node(\"Social_Media\", title=\"Youtube\", tagline=\"Broadcast Yourself\")\n",
    "Twitter = Node(\"Social_Media\", title=\"Twitter\", tagline=\"Here, your voice matters\")\n",
    "LinkedIn = Node(\"Social_Media\", title=\"LinkedIn\", tagline=\"Sum up your Professional brand\")"
   ]
  },
  {
   "cell_type": "markdown",
   "id": "d8cf660c",
   "metadata": {},
   "source": [
    "## User Nodes"
   ]
  },
  {
   "cell_type": "code",
   "execution_count": null,
   "id": "96a9624c",
   "metadata": {},
   "outputs": [],
   "source": [
    "Chandler = Node(\"Person\", name=\"Chandler Bing\", dob=1968, country=\"USA\", sex=\"Male\")\n",
    "Rachel = Node(\"Person\", name=\"Rachel Green\", dob=1969, country=\"USA\", sex=\"Female\")\n",
    "Joey = Node(\"Person\", name=\"Joey Tribbiani\", dob=1967, country=\"USA\", sex=\"Male\")\n",
    "Ross = Node(\"Person\", name=\"Ross Geller\", dob=1967, country=\"USA\", sex=\"Male\")\n",
    "Monica = Node(\"Person\", name=\"Monica Geller\", dob=1967, country=\"USA\", sex=\"Female\")\n",
    "Phoebe = Node(\"Person\", name=\"Phoebe Buffay\", dob=1971, country=\"USA\", sex=\"Female\")\n",
    "\n",
    "Abhijit = Node(\"Person\", name=\"Abhijit Singh \", dob=1980, country=\"India\", sex=\"Male\")\n",
    "ACP = Node(\"Person\", name=\"ACP Pradyuman \", dob=1960, country=\"India\", sex=\"Male\")\n",
    "Tarika = Node(\"Person\", name=\"DR Tarika \", dob=1986, country=\"India\", sex=\"Female\")\n",
    "Purvi = Node(\"Person\", name=\"Purvi Sayed \", dob=1988, country=\"India\", sex=\"Female\")\n",
    "Shreya = Node(\"Person\", name=\"Shreya Chedda\", dob=1985, country=\"India\", sex=\"Female\")\n",
    "Salunkhe = Node(\"Person\", name=\"Dr R.P. Salunkhe \", dob=1965, country=\"India\", sex=\"Male\")\n",
    "Fredricks = Node(\"Person\", name=\"Fredricks \", dob=1975, country=\"India\", sex=\"Male\")\n",
    "Sachin = Node(\"Person\", name=\"Inspector Sachin\", dob=1987, country=\"India\", sex=\"Male\")\n",
    "Nikhil = Node(\"Person\", name=\"Inspector Nikhil \", dob=1990, country=\"India\", sex=\"Male\")\n",
    "\n",
    "Bagha = Node(\"Person\", name=\"Bagha\", dob=2001, country=\"India\", sex=\"Male\")\n",
    "Peg = Node(\"Person\", name=\"Peg Legge\", dob=2006, country=\"India\", sex=\"Male\")\n",
    "Isabelle = Node(\"Person\", name=\"Isabelle Ringing\", dob=2005, country=\"India\", sex=\"Female\")\n",
    "Anne = Node(\"Person\", name=\"Anne Teak\", dob=2001, country=\"USA\", sex=\"Female\")\n",
    "Rose = Node(\"Person\", name=\"Rose Bush\", dob=1998, country=\"USA\", sex=\"Female\")\n",
    "Melody = Node(\"Person\", name=\"Melody Sunshine\", dob=1999, country=\"USA\", sex=\"Male\")\n",
    "Chew = Node(\"Person\", name=\"Chew Mee \", dob=1999, country=\"USA\", sex=\"Male\")"
   ]
  },
  {
   "cell_type": "markdown",
   "id": "55b67b72",
   "metadata": {},
   "source": [
    "## Storing Nodes in Graphs"
   ]
  },
  {
   "cell_type": "code",
   "execution_count": 15,
   "id": "88b3818b",
   "metadata": {},
   "outputs": [],
   "source": [
    "graph.create(Instagram | Facebook | WhatsApp | SnapChat \n",
    "             | Youtube | Twitter | LinkedIn)"
   ]
  },
  {
   "cell_type": "code",
   "execution_count": 16,
   "id": "65ea2d6e",
   "metadata": {},
   "outputs": [],
   "source": [
    "graph.create(Chandler | Rachel | Joey | Ross | Monica | Phoebe\n",
    "             | Bagha | Peg | Isabelle | Anne | Rose | Melody \n",
    "             | Chew | Abhijit | ACP | Tarika |Purvi | Shreya\n",
    "             | Salunkhe | Fredricks | Sachin | Nikhil)"
   ]
  },
  {
   "cell_type": "markdown",
   "id": "d383e256",
   "metadata": {},
   "source": [
    "##  Adding Relationship between Social Media Nodes & User Nodes"
   ]
  },
  {
   "cell_type": "code",
   "execution_count": 17,
   "id": "ce6cadd0",
   "metadata": {},
   "outputs": [],
   "source": [
    "graph.create(Relationship(Joey, \"Uses\", SnapChat, joinedyear=2014, screentime=47, rating=3))\n",
    "graph.create(Relationship(Ross, \"Uses\", LinkedIn, joinedyear=2010, screentime=64, rating=5))\n",
    "graph.create(Relationship(Ross, \"Uses\", Twitter, joinedyear=2013, screentime=60, rating=4.6))\n",
    "graph.create(Relationship(Monica, \"Uses\", Facebook, joinedyear=2019, screentime=97, rating=4.5))\n",
    "graph.create(Relationship(Phoebe, \"Uses\", Facebook, joinedyear=2018, screentime=20, rating=3))\n",
    "graph.create(Relationship(Bagha, \"Uses\", Facebook, joinedyear=2016, screentime=69, rating=4.9))\n",
    "graph.create(Relationship(Peg, \"Uses\", Facebook, joinedyear=2013, screentime=94, rating=1))\n",
    "graph.create(Relationship(Peg, \"Uses\", LinkedIn, joinedyear=2011, screentime=34, rating=4.8))\n",
    "graph.create(Relationship(Isabelle, \"Uses\", Youtube, joinedyear=2008, screentime=104, rating=4.6))\n",
    "graph.create(Relationship(Isabelle, \"Uses\", Twitter, joinedyear=2016, screentime=24, rating=1.8))\n",
    "graph.create(Relationship(Isabelle, \"Uses\", Instagram, joinedyear = 2014, screentime = 120, rating = 4.8))\n",
    "graph.create(Relationship(Anne, \"Uses\", Youtube, joinedyear=2009, screentime=14, rating=5))\n",
    "graph.create(Relationship(Anne, \"Uses\", SnapChat, joinedyear=2013, screentime=36, rating=3.8))\n",
    "graph.create(Relationship(Anne, \"Uses\", LinkedIn, joinedyear=2017, screentime=20, rating=4))\n",
    "graph.create(Relationship(Chandler, \"Uses\", Facebook, joinedyear=2016, screentime=30, rating=2))\n",
    "graph.create(Relationship(Chandler, \"Uses\", WhatsApp, joinedyear=2016, screentime=70, rating=3))\n",
    "graph.create(Relationship(Chandler, \"Uses\", Instagram, joinedyear=2012, screentime=150, rating=4.9))\n",
    "graph.create(Relationship(Rachel, \"Uses\", WhatsApp, joinedyear=2018, screentime=100, rating=4))\n",
    "\n",
    "graph.create(Relationship(Phoebe, \"Uses\", WhatsApp, joinedyear=2010, screentime=25, rating=5))\n",
    "graph.create(Relationship(Rachel, \"Uses\", WhatsApp, joinedyear=2011, screentime=10, rating=4))\n",
    "graph.create(Relationship(Bagha, \"Uses\", WhatsApp, joinedyear=2012, screentime=15, rating=5))\n",
    "graph.create(Relationship(Monica, \"Uses\", WhatsApp, joinedyear=2013, screentime=30, rating=4))\n",
    "graph.create(Relationship(Peg, \"Uses\", WhatsApp, joinedyear=2014, screentime=35, rating=5))\n",
    "graph.create(Relationship(Ross, \"Uses\", WhatsApp, joinedyear=2015, screentime=40, rating=4))\n",
    "graph.create(Relationship(Isabelle, \"Uses\", WhatsApp, joinedyear=2016, screentime=45, rating=5))\n",
    "graph.create(Relationship(Anne, \"Uses\", WhatsApp, joinedyear=2017, screentime=50, rating=4))\n",
    "graph.create(Relationship(Joey, \"Uses\", WhatsApp, joinedyear=2018, screentime=55, rating=5))\n",
    "\n",
    "graph.create(Relationship(Abhijit, \"Uses\", Instagram, joinedyear=2018, screentime=80, rating=5))\n",
    "graph.create(Relationship(ACP, \"Uses\", Twitter, joinedyear=2014, screentime=20, rating=3))\n",
    "graph.create(Relationship(Tarika, \"Uses\", Instagram, joinedyear=2015, screentime=130, rating=4))\n",
    "graph.create(Relationship(Purvi, \"Uses\", Instagram, joinedyear=2017, screentime=100, rating=4))\n",
    "graph.create(Relationship(Shreya, \"Uses\", Instagram, joinedyear=2018, screentime=40, rating=4))\n",
    "graph.create(Relationship(Salunkhe, \"Uses\", LinkedIn, joinedyear=2019, screentime=10, rating=3))\n",
    "graph.create(Relationship(Fredricks, \"Uses\", Youtube, joinedyear=2013, screentime=30, rating=3))\n",
    "graph.create(Relationship(Sachin, \"Uses\", Youtube, joinedyear=2010, screentime=40, rating=4))\n",
    "graph.create(Relationship(Nikhil, \"Uses\", Instagram, joinedyear=2012, screentime=50, rating=5))\n",
    "\n",
    "graph.create(Relationship(Rachel, \"Uses\", Facebook, joinedyear=2017, screentime=43, rating=2))\n",
    "graph.create(Relationship(Rose, \"Uses\", Twitter, joinedyear=2012, screentime=84, rating=4))\n",
    "graph.create(Relationship(Rose, \"Uses\", LinkedIn, joinedyear=2014, screentime=134, rating=1))\n",
    "graph.create(Relationship(Rose, \"Uses\", Youtube, joinedyear=2014, screentime=64, rating=4.8))\n",
    "graph.create(Relationship(Melody, \"Uses\", Twitter, joinedyear=2010, screentime=54, rating=2.9))\n",
    "graph.create(Relationship(Melody, \"Uses\", SnapChat, joinedyear=2015, screentime=76, rating=3.8))\n",
    "graph.create(Relationship(Melody, \"Uses\", WhatsApp, joinedyear=2019, screentime=87, rating=2.6))\n",
    "graph.create(Relationship(Chew, \"Uses\", Facebook, joinedyear=2017, screentime=29, rating=4.9))\n",
    "graph.create(Relationship(Chew, \"Uses\", SnapChat, joinedyear=2018, screentime=48, rating=2.8))\n",
    "graph.create(Relationship(Chew, \"Uses\", WhatsApp, joinedyear=2009, screentime=86, rating=1.6))"
   ]
  },
  {
   "cell_type": "markdown",
   "id": "280e9320",
   "metadata": {},
   "source": [
    "## Using Cyper Query for Analysis"
   ]
  },
  {
   "cell_type": "markdown",
   "id": "8ba41c4a",
   "metadata": {},
   "source": [
    "#### Which social media platform has the most number of users? (Top 5)"
   ]
  },
  {
   "cell_type": "code",
   "execution_count": 10,
   "id": "58317a3d",
   "metadata": {},
   "outputs": [
    {
     "name": "stdout",
     "output_type": "stream",
     "text": [
      "'WhatsApp'\t12\n",
      "'Instagram'\t7\n",
      "'Facebook'\t7\n",
      "'Youtube'\t5\n",
      "'Twitter'\t5\n"
     ]
    }
   ],
   "source": [
    "query1 = \"\"\"\n",
    "MATCH (p:Person)-[]->(s:Social_Media)\n",
    "RETURN s.title, COUNT(*) AS Users\n",
    "ORDER BY Users DESC\n",
    "LIMIT 5\n",
    "\"\"\"\n",
    "\n",
    "result1 = graph.run(query1)\n",
    "for d in result1:\n",
    "    print(d)"
   ]
  },
  {
   "cell_type": "markdown",
   "id": "0808f083",
   "metadata": {},
   "source": [
    "#### Which platform has the highest rating?"
   ]
  },
  {
   "cell_type": "code",
   "execution_count": 6,
   "id": "14c36471",
   "metadata": {},
   "outputs": [
    {
     "name": "stdout",
     "output_type": "stream",
     "text": [
      "'Instagram'\t4.5285714285714285\n",
      "'Youtube'\t4.28\n",
      "'WhatsApp'\t4.016666666666667\n",
      "'LinkedIn'\t3.5599999999999996\n",
      "'SnapChat'\t3.3499999999999996\n",
      "'Twitter'\t3.2600000000000002\n",
      "'Facebook'\t3.185714285714286\n"
     ]
    }
   ],
   "source": [
    "query2 = \"\"\"\n",
    "MATCH (p:Person)-[r]->(s:Social_Media)\n",
    "RETURN s.title AS Title, AVG(r.rating) AS Rating\n",
    "ORDER BY Rating DESC\n",
    "\"\"\"\n",
    "\n",
    "result2 = graph.run(query2)\n",
    "for d in result2:\n",
    "    print(d)"
   ]
  },
  {
   "cell_type": "markdown",
   "id": "49754128",
   "metadata": {},
   "source": [
    "#### What is the total screen time for a user & which social media platform has the most screen time?"
   ]
  },
  {
   "cell_type": "code",
   "execution_count": 8,
   "id": "4183b5c8",
   "metadata": {},
   "outputs": [],
   "source": [
    "query3 = \"\"\"\n",
    "MATCH (p:Person)-[r]->(s:Social_Media)\n",
    "RETURN DISTINCT p.name AS Name, s.title,SUM(r.screentime) AS Total\n",
    "ORDER BY Total DESC\n",
    "LIMIT 10\n",
    "\"\"\"\n",
    "\n",
    "result3 = graph.run(query3)\n",
    "\n",
    "df = pd.DataFrame(result3, columns = [\"User\", \"Social Media\", \"Screen Time\"])"
   ]
  },
  {
   "cell_type": "code",
   "execution_count": 9,
   "id": "87338735",
   "metadata": {},
   "outputs": [
    {
     "data": {
      "text/html": [
       "<div>\n",
       "<style scoped>\n",
       "    .dataframe tbody tr th:only-of-type {\n",
       "        vertical-align: middle;\n",
       "    }\n",
       "\n",
       "    .dataframe tbody tr th {\n",
       "        vertical-align: top;\n",
       "    }\n",
       "\n",
       "    .dataframe thead th {\n",
       "        text-align: right;\n",
       "    }\n",
       "</style>\n",
       "<table border=\"1\" class=\"dataframe\">\n",
       "  <thead>\n",
       "    <tr style=\"text-align: right;\">\n",
       "      <th></th>\n",
       "      <th>User</th>\n",
       "      <th>Social Media</th>\n",
       "      <th>Screen Time</th>\n",
       "    </tr>\n",
       "  </thead>\n",
       "  <tbody>\n",
       "    <tr>\n",
       "      <th>0</th>\n",
       "      <td>Chandler Bing</td>\n",
       "      <td>Instagram</td>\n",
       "      <td>150</td>\n",
       "    </tr>\n",
       "    <tr>\n",
       "      <th>1</th>\n",
       "      <td>Rose Bush</td>\n",
       "      <td>LinkedIn</td>\n",
       "      <td>134</td>\n",
       "    </tr>\n",
       "    <tr>\n",
       "      <th>2</th>\n",
       "      <td>DR Tarika</td>\n",
       "      <td>Instagram</td>\n",
       "      <td>130</td>\n",
       "    </tr>\n",
       "    <tr>\n",
       "      <th>3</th>\n",
       "      <td>Isabelle Ringing</td>\n",
       "      <td>Instagram</td>\n",
       "      <td>120</td>\n",
       "    </tr>\n",
       "    <tr>\n",
       "      <th>4</th>\n",
       "      <td>Isabelle Ringing</td>\n",
       "      <td>Youtube</td>\n",
       "      <td>104</td>\n",
       "    </tr>\n",
       "    <tr>\n",
       "      <th>5</th>\n",
       "      <td>Purvi Sayed</td>\n",
       "      <td>Instagram</td>\n",
       "      <td>100</td>\n",
       "    </tr>\n",
       "    <tr>\n",
       "      <th>6</th>\n",
       "      <td>Monica Geller</td>\n",
       "      <td>Facebook</td>\n",
       "      <td>97</td>\n",
       "    </tr>\n",
       "    <tr>\n",
       "      <th>7</th>\n",
       "      <td>Peg Legge</td>\n",
       "      <td>Facebook</td>\n",
       "      <td>94</td>\n",
       "    </tr>\n",
       "    <tr>\n",
       "      <th>8</th>\n",
       "      <td>Melody Sunshine</td>\n",
       "      <td>WhatsApp</td>\n",
       "      <td>87</td>\n",
       "    </tr>\n",
       "    <tr>\n",
       "      <th>9</th>\n",
       "      <td>Chew Mee</td>\n",
       "      <td>WhatsApp</td>\n",
       "      <td>86</td>\n",
       "    </tr>\n",
       "  </tbody>\n",
       "</table>\n",
       "</div>"
      ],
      "text/plain": [
       "               User Social Media  Screen Time\n",
       "0     Chandler Bing    Instagram          150\n",
       "1         Rose Bush     LinkedIn          134\n",
       "2        DR Tarika     Instagram          130\n",
       "3  Isabelle Ringing    Instagram          120\n",
       "4  Isabelle Ringing      Youtube          104\n",
       "5      Purvi Sayed     Instagram          100\n",
       "6     Monica Geller     Facebook           97\n",
       "7         Peg Legge     Facebook           94\n",
       "8   Melody Sunshine     WhatsApp           87\n",
       "9         Chew Mee      WhatsApp           86"
      ]
     },
     "execution_count": 9,
     "metadata": {},
     "output_type": "execute_result"
    }
   ],
   "source": [
    "df"
   ]
  },
  {
   "cell_type": "code",
   "execution_count": null,
   "id": "765af831",
   "metadata": {},
   "outputs": [],
   "source": []
  }
 ],
 "metadata": {
  "kernelspec": {
   "display_name": "Python 3 (ipykernel)",
   "language": "python",
   "name": "python3"
  },
  "language_info": {
   "codemirror_mode": {
    "name": "ipython",
    "version": 3
   },
   "file_extension": ".py",
   "mimetype": "text/x-python",
   "name": "python",
   "nbconvert_exporter": "python",
   "pygments_lexer": "ipython3",
   "version": "3.9.13"
  }
 },
 "nbformat": 4,
 "nbformat_minor": 5
}
